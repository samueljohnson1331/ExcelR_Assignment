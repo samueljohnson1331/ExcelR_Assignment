{
 "cells": [
  {
   "cell_type": "code",
   "execution_count": 12,
   "id": "c0d65025",
   "metadata": {},
   "outputs": [
    {
     "name": "stdout",
     "output_type": "stream",
     "text": [
      "Hypothesis Testing for Weekly Operating Costs\n",
      "\n",
      "Theoretical Mean Weekly Cost: 4000\n",
      "\n",
      "Sample Mean Weekly Cost: 3050\n",
      "\n",
      "Sample Size: 25\n",
      "\n",
      "Standard Deviation of Weekly Operating Cost: 125\n",
      "\n",
      "Test Statistic (t): -38.0\n",
      "\n",
      "Critical Value at alpha={alpha}: 1.6448536269514722\n",
      "\n",
      "Reject the null hypothesis: False\n",
      "\n",
      "\n",
      "Conclusion: There is not enough evidence to support the restaurant owners' claim that the weekly operating costs are higher than the model suggests.\n"
     ]
    }
   ],
   "source": [
    "import numpy as np\n",
    "import scipy.stats as stats\n",
    "\n",
    "\n",
    "sample_mean = 3050 \n",
    "theoretical_mean = 1000 + 5 * 600  \n",
    "std_dev_X = 25 \n",
    "n = 25  \n",
    "alpha = 0.05  \n",
    "\n",
    "# 1. State the Hypotheses:\n",
    "# H0 (null hypothesis): The weekly operating cost follows the theoretical model (mean = 4000).\n",
    "# HA (alternative hypothesis): The weekly operating cost is higher than the theoretical model (mean > 4000).\n",
    "\n",
    "# 2. Calculate the Test Statistic:\n",
    "std_dev_W = 5 * std_dev_X\n",
    "t_stat = (sample_mean - theoretical_mean) / (std_dev_W / np.sqrt(n))\n",
    "\n",
    "# 3. Determine the Critical Value:\n",
    "critical_value = stats.norm.ppf(1 - alpha)\n",
    "\n",
    "# 4. Make a Decision:\n",
    "reject_null = t_stat > critical_value\n",
    "\n",
    "\n",
    "print(\"Hypothesis Testing for Weekly Operating Costs\")\n",
    "print(\"\\nTheoretical Mean Weekly Cost:\",theoretical_mean)\n",
    "print(\"\\nSample Mean Weekly Cost:\",sample_mean)\n",
    "print(\"\\nSample Size:\",n)\n",
    "print(\"\\nStandard Deviation of Weekly Operating Cost:\",std_dev_W)\n",
    "print(\"\\nTest Statistic (t):\",t_stat)\n",
    "print(\"\\nCritical Value at alpha={alpha}:\",critical_value)\n",
    "print(\"\\nReject the null hypothesis:\",reject_null)\n",
    "print(\"\\n\")\n",
    "\n",
    "if reject_null:\n",
    "    print(\"Conclusion: There is strong evidence to support the restaurant owners' claim that the weekly operating costs are higher than the model suggests.\")\n",
    "else:\n",
    "    print(\"Conclusion: There is not enough evidence to support the restaurant owners' claim that the weekly operating costs are higher than the model suggests.\")\n"
   ]
  },
  {
   "cell_type": "code",
   "execution_count": null,
   "id": "134cca18",
   "metadata": {},
   "outputs": [],
   "source": []
  }
 ],
 "metadata": {
  "kernelspec": {
   "display_name": "Python 3 (ipykernel)",
   "language": "python",
   "name": "python3"
  },
  "language_info": {
   "codemirror_mode": {
    "name": "ipython",
    "version": 3
   },
   "file_extension": ".py",
   "mimetype": "text/x-python",
   "name": "python",
   "nbconvert_exporter": "python",
   "pygments_lexer": "ipython3",
   "version": "3.11.7"
  }
 },
 "nbformat": 4,
 "nbformat_minor": 5
}
