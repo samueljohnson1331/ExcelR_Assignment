{
  "nbformat": 4,
  "nbformat_minor": 0,
  "metadata": {
    "colab": {
      "provenance": []
    },
    "kernelspec": {
      "name": "python3",
      "display_name": "Python 3"
    },
    "language_info": {
      "name": "python"
    }
  },
  "cells": [
    {
      "cell_type": "code",
      "execution_count": 1,
      "metadata": {
        "colab": {
          "base_uri": "https://localhost:8080/",
          "height": 423
        },
        "id": "ZfqnDRA5exTY",
        "outputId": "80383193-ff0f-4b7a-f77c-b30658c5a029"
      },
      "outputs": [
        {
          "output_type": "execute_result",
          "data": {
            "text/plain": [
              "                                                   Data              Labels\n",
              "0     Path: cantaloupe.srv.cs.cmu.edu!magnesium.club...         alt.atheism\n",
              "1     Newsgroups: alt.atheism\\nPath: cantaloupe.srv....         alt.atheism\n",
              "2     Path: cantaloupe.srv.cs.cmu.edu!das-news.harva...         alt.atheism\n",
              "3     Path: cantaloupe.srv.cs.cmu.edu!magnesium.club...         alt.atheism\n",
              "4     Xref: cantaloupe.srv.cs.cmu.edu alt.atheism:53...         alt.atheism\n",
              "...                                                 ...                 ...\n",
              "1995  Xref: cantaloupe.srv.cs.cmu.edu talk.abortion:...  talk.religion.misc\n",
              "1996  Xref: cantaloupe.srv.cs.cmu.edu talk.religion....  talk.religion.misc\n",
              "1997  Xref: cantaloupe.srv.cs.cmu.edu talk.origins:4...  talk.religion.misc\n",
              "1998  Xref: cantaloupe.srv.cs.cmu.edu talk.religion....  talk.religion.misc\n",
              "1999  Xref: cantaloupe.srv.cs.cmu.edu sci.skeptic:43...  talk.religion.misc\n",
              "\n",
              "[2000 rows x 2 columns]"
            ],
            "text/html": [
              "\n",
              "  <div id=\"df-dd662a61-fa8d-47ab-88e9-912ec913dcc5\" class=\"colab-df-container\">\n",
              "    <div>\n",
              "<style scoped>\n",
              "    .dataframe tbody tr th:only-of-type {\n",
              "        vertical-align: middle;\n",
              "    }\n",
              "\n",
              "    .dataframe tbody tr th {\n",
              "        vertical-align: top;\n",
              "    }\n",
              "\n",
              "    .dataframe thead th {\n",
              "        text-align: right;\n",
              "    }\n",
              "</style>\n",
              "<table border=\"1\" class=\"dataframe\">\n",
              "  <thead>\n",
              "    <tr style=\"text-align: right;\">\n",
              "      <th></th>\n",
              "      <th>Data</th>\n",
              "      <th>Labels</th>\n",
              "    </tr>\n",
              "  </thead>\n",
              "  <tbody>\n",
              "    <tr>\n",
              "      <th>0</th>\n",
              "      <td>Path: cantaloupe.srv.cs.cmu.edu!magnesium.club...</td>\n",
              "      <td>alt.atheism</td>\n",
              "    </tr>\n",
              "    <tr>\n",
              "      <th>1</th>\n",
              "      <td>Newsgroups: alt.atheism\\nPath: cantaloupe.srv....</td>\n",
              "      <td>alt.atheism</td>\n",
              "    </tr>\n",
              "    <tr>\n",
              "      <th>2</th>\n",
              "      <td>Path: cantaloupe.srv.cs.cmu.edu!das-news.harva...</td>\n",
              "      <td>alt.atheism</td>\n",
              "    </tr>\n",
              "    <tr>\n",
              "      <th>3</th>\n",
              "      <td>Path: cantaloupe.srv.cs.cmu.edu!magnesium.club...</td>\n",
              "      <td>alt.atheism</td>\n",
              "    </tr>\n",
              "    <tr>\n",
              "      <th>4</th>\n",
              "      <td>Xref: cantaloupe.srv.cs.cmu.edu alt.atheism:53...</td>\n",
              "      <td>alt.atheism</td>\n",
              "    </tr>\n",
              "    <tr>\n",
              "      <th>...</th>\n",
              "      <td>...</td>\n",
              "      <td>...</td>\n",
              "    </tr>\n",
              "    <tr>\n",
              "      <th>1995</th>\n",
              "      <td>Xref: cantaloupe.srv.cs.cmu.edu talk.abortion:...</td>\n",
              "      <td>talk.religion.misc</td>\n",
              "    </tr>\n",
              "    <tr>\n",
              "      <th>1996</th>\n",
              "      <td>Xref: cantaloupe.srv.cs.cmu.edu talk.religion....</td>\n",
              "      <td>talk.religion.misc</td>\n",
              "    </tr>\n",
              "    <tr>\n",
              "      <th>1997</th>\n",
              "      <td>Xref: cantaloupe.srv.cs.cmu.edu talk.origins:4...</td>\n",
              "      <td>talk.religion.misc</td>\n",
              "    </tr>\n",
              "    <tr>\n",
              "      <th>1998</th>\n",
              "      <td>Xref: cantaloupe.srv.cs.cmu.edu talk.religion....</td>\n",
              "      <td>talk.religion.misc</td>\n",
              "    </tr>\n",
              "    <tr>\n",
              "      <th>1999</th>\n",
              "      <td>Xref: cantaloupe.srv.cs.cmu.edu sci.skeptic:43...</td>\n",
              "      <td>talk.religion.misc</td>\n",
              "    </tr>\n",
              "  </tbody>\n",
              "</table>\n",
              "<p>2000 rows × 2 columns</p>\n",
              "</div>\n",
              "    <div class=\"colab-df-buttons\">\n",
              "\n",
              "  <div class=\"colab-df-container\">\n",
              "    <button class=\"colab-df-convert\" onclick=\"convertToInteractive('df-dd662a61-fa8d-47ab-88e9-912ec913dcc5')\"\n",
              "            title=\"Convert this dataframe to an interactive table.\"\n",
              "            style=\"display:none;\">\n",
              "\n",
              "  <svg xmlns=\"http://www.w3.org/2000/svg\" height=\"24px\" viewBox=\"0 -960 960 960\">\n",
              "    <path d=\"M120-120v-720h720v720H120Zm60-500h600v-160H180v160Zm220 220h160v-160H400v160Zm0 220h160v-160H400v160ZM180-400h160v-160H180v160Zm440 0h160v-160H620v160ZM180-180h160v-160H180v160Zm440 0h160v-160H620v160Z\"/>\n",
              "  </svg>\n",
              "    </button>\n",
              "\n",
              "  <style>\n",
              "    .colab-df-container {\n",
              "      display:flex;\n",
              "      gap: 12px;\n",
              "    }\n",
              "\n",
              "    .colab-df-convert {\n",
              "      background-color: #E8F0FE;\n",
              "      border: none;\n",
              "      border-radius: 50%;\n",
              "      cursor: pointer;\n",
              "      display: none;\n",
              "      fill: #1967D2;\n",
              "      height: 32px;\n",
              "      padding: 0 0 0 0;\n",
              "      width: 32px;\n",
              "    }\n",
              "\n",
              "    .colab-df-convert:hover {\n",
              "      background-color: #E2EBFA;\n",
              "      box-shadow: 0px 1px 2px rgba(60, 64, 67, 0.3), 0px 1px 3px 1px rgba(60, 64, 67, 0.15);\n",
              "      fill: #174EA6;\n",
              "    }\n",
              "\n",
              "    .colab-df-buttons div {\n",
              "      margin-bottom: 4px;\n",
              "    }\n",
              "\n",
              "    [theme=dark] .colab-df-convert {\n",
              "      background-color: #3B4455;\n",
              "      fill: #D2E3FC;\n",
              "    }\n",
              "\n",
              "    [theme=dark] .colab-df-convert:hover {\n",
              "      background-color: #434B5C;\n",
              "      box-shadow: 0px 1px 3px 1px rgba(0, 0, 0, 0.15);\n",
              "      filter: drop-shadow(0px 1px 2px rgba(0, 0, 0, 0.3));\n",
              "      fill: #FFFFFF;\n",
              "    }\n",
              "  </style>\n",
              "\n",
              "    <script>\n",
              "      const buttonEl =\n",
              "        document.querySelector('#df-dd662a61-fa8d-47ab-88e9-912ec913dcc5 button.colab-df-convert');\n",
              "      buttonEl.style.display =\n",
              "        google.colab.kernel.accessAllowed ? 'block' : 'none';\n",
              "\n",
              "      async function convertToInteractive(key) {\n",
              "        const element = document.querySelector('#df-dd662a61-fa8d-47ab-88e9-912ec913dcc5');\n",
              "        const dataTable =\n",
              "          await google.colab.kernel.invokeFunction('convertToInteractive',\n",
              "                                                    [key], {});\n",
              "        if (!dataTable) return;\n",
              "\n",
              "        const docLinkHtml = 'Like what you see? Visit the ' +\n",
              "          '<a target=\"_blank\" href=https://colab.research.google.com/notebooks/data_table.ipynb>data table notebook</a>'\n",
              "          + ' to learn more about interactive tables.';\n",
              "        element.innerHTML = '';\n",
              "        dataTable['output_type'] = 'display_data';\n",
              "        await google.colab.output.renderOutput(dataTable, element);\n",
              "        const docLink = document.createElement('div');\n",
              "        docLink.innerHTML = docLinkHtml;\n",
              "        element.appendChild(docLink);\n",
              "      }\n",
              "    </script>\n",
              "  </div>\n",
              "\n",
              "\n",
              "<div id=\"df-6aa04314-1f2a-400a-bf12-a0146653aebf\">\n",
              "  <button class=\"colab-df-quickchart\" onclick=\"quickchart('df-6aa04314-1f2a-400a-bf12-a0146653aebf')\"\n",
              "            title=\"Suggest charts\"\n",
              "            style=\"display:none;\">\n",
              "\n",
              "<svg xmlns=\"http://www.w3.org/2000/svg\" height=\"24px\"viewBox=\"0 0 24 24\"\n",
              "     width=\"24px\">\n",
              "    <g>\n",
              "        <path d=\"M19 3H5c-1.1 0-2 .9-2 2v14c0 1.1.9 2 2 2h14c1.1 0 2-.9 2-2V5c0-1.1-.9-2-2-2zM9 17H7v-7h2v7zm4 0h-2V7h2v10zm4 0h-2v-4h2v4z\"/>\n",
              "    </g>\n",
              "</svg>\n",
              "  </button>\n",
              "\n",
              "<style>\n",
              "  .colab-df-quickchart {\n",
              "      --bg-color: #E8F0FE;\n",
              "      --fill-color: #1967D2;\n",
              "      --hover-bg-color: #E2EBFA;\n",
              "      --hover-fill-color: #174EA6;\n",
              "      --disabled-fill-color: #AAA;\n",
              "      --disabled-bg-color: #DDD;\n",
              "  }\n",
              "\n",
              "  [theme=dark] .colab-df-quickchart {\n",
              "      --bg-color: #3B4455;\n",
              "      --fill-color: #D2E3FC;\n",
              "      --hover-bg-color: #434B5C;\n",
              "      --hover-fill-color: #FFFFFF;\n",
              "      --disabled-bg-color: #3B4455;\n",
              "      --disabled-fill-color: #666;\n",
              "  }\n",
              "\n",
              "  .colab-df-quickchart {\n",
              "    background-color: var(--bg-color);\n",
              "    border: none;\n",
              "    border-radius: 50%;\n",
              "    cursor: pointer;\n",
              "    display: none;\n",
              "    fill: var(--fill-color);\n",
              "    height: 32px;\n",
              "    padding: 0;\n",
              "    width: 32px;\n",
              "  }\n",
              "\n",
              "  .colab-df-quickchart:hover {\n",
              "    background-color: var(--hover-bg-color);\n",
              "    box-shadow: 0 1px 2px rgba(60, 64, 67, 0.3), 0 1px 3px 1px rgba(60, 64, 67, 0.15);\n",
              "    fill: var(--button-hover-fill-color);\n",
              "  }\n",
              "\n",
              "  .colab-df-quickchart-complete:disabled,\n",
              "  .colab-df-quickchart-complete:disabled:hover {\n",
              "    background-color: var(--disabled-bg-color);\n",
              "    fill: var(--disabled-fill-color);\n",
              "    box-shadow: none;\n",
              "  }\n",
              "\n",
              "  .colab-df-spinner {\n",
              "    border: 2px solid var(--fill-color);\n",
              "    border-color: transparent;\n",
              "    border-bottom-color: var(--fill-color);\n",
              "    animation:\n",
              "      spin 1s steps(1) infinite;\n",
              "  }\n",
              "\n",
              "  @keyframes spin {\n",
              "    0% {\n",
              "      border-color: transparent;\n",
              "      border-bottom-color: var(--fill-color);\n",
              "      border-left-color: var(--fill-color);\n",
              "    }\n",
              "    20% {\n",
              "      border-color: transparent;\n",
              "      border-left-color: var(--fill-color);\n",
              "      border-top-color: var(--fill-color);\n",
              "    }\n",
              "    30% {\n",
              "      border-color: transparent;\n",
              "      border-left-color: var(--fill-color);\n",
              "      border-top-color: var(--fill-color);\n",
              "      border-right-color: var(--fill-color);\n",
              "    }\n",
              "    40% {\n",
              "      border-color: transparent;\n",
              "      border-right-color: var(--fill-color);\n",
              "      border-top-color: var(--fill-color);\n",
              "    }\n",
              "    60% {\n",
              "      border-color: transparent;\n",
              "      border-right-color: var(--fill-color);\n",
              "    }\n",
              "    80% {\n",
              "      border-color: transparent;\n",
              "      border-right-color: var(--fill-color);\n",
              "      border-bottom-color: var(--fill-color);\n",
              "    }\n",
              "    90% {\n",
              "      border-color: transparent;\n",
              "      border-bottom-color: var(--fill-color);\n",
              "    }\n",
              "  }\n",
              "</style>\n",
              "\n",
              "  <script>\n",
              "    async function quickchart(key) {\n",
              "      const quickchartButtonEl =\n",
              "        document.querySelector('#' + key + ' button');\n",
              "      quickchartButtonEl.disabled = true;  // To prevent multiple clicks.\n",
              "      quickchartButtonEl.classList.add('colab-df-spinner');\n",
              "      try {\n",
              "        const charts = await google.colab.kernel.invokeFunction(\n",
              "            'suggestCharts', [key], {});\n",
              "      } catch (error) {\n",
              "        console.error('Error during call to suggestCharts:', error);\n",
              "      }\n",
              "      quickchartButtonEl.classList.remove('colab-df-spinner');\n",
              "      quickchartButtonEl.classList.add('colab-df-quickchart-complete');\n",
              "    }\n",
              "    (() => {\n",
              "      let quickchartButtonEl =\n",
              "        document.querySelector('#df-6aa04314-1f2a-400a-bf12-a0146653aebf button');\n",
              "      quickchartButtonEl.style.display =\n",
              "        google.colab.kernel.accessAllowed ? 'block' : 'none';\n",
              "    })();\n",
              "  </script>\n",
              "</div>\n",
              "\n",
              "  <div id=\"id_a2cf1e75-9b1e-45dc-b66a-947e267ba084\">\n",
              "    <style>\n",
              "      .colab-df-generate {\n",
              "        background-color: #E8F0FE;\n",
              "        border: none;\n",
              "        border-radius: 50%;\n",
              "        cursor: pointer;\n",
              "        display: none;\n",
              "        fill: #1967D2;\n",
              "        height: 32px;\n",
              "        padding: 0 0 0 0;\n",
              "        width: 32px;\n",
              "      }\n",
              "\n",
              "      .colab-df-generate:hover {\n",
              "        background-color: #E2EBFA;\n",
              "        box-shadow: 0px 1px 2px rgba(60, 64, 67, 0.3), 0px 1px 3px 1px rgba(60, 64, 67, 0.15);\n",
              "        fill: #174EA6;\n",
              "      }\n",
              "\n",
              "      [theme=dark] .colab-df-generate {\n",
              "        background-color: #3B4455;\n",
              "        fill: #D2E3FC;\n",
              "      }\n",
              "\n",
              "      [theme=dark] .colab-df-generate:hover {\n",
              "        background-color: #434B5C;\n",
              "        box-shadow: 0px 1px 3px 1px rgba(0, 0, 0, 0.15);\n",
              "        filter: drop-shadow(0px 1px 2px rgba(0, 0, 0, 0.3));\n",
              "        fill: #FFFFFF;\n",
              "      }\n",
              "    </style>\n",
              "    <button class=\"colab-df-generate\" onclick=\"generateWithVariable('data')\"\n",
              "            title=\"Generate code using this dataframe.\"\n",
              "            style=\"display:none;\">\n",
              "\n",
              "  <svg xmlns=\"http://www.w3.org/2000/svg\" height=\"24px\"viewBox=\"0 0 24 24\"\n",
              "       width=\"24px\">\n",
              "    <path d=\"M7,19H8.4L18.45,9,17,7.55,7,17.6ZM5,21V16.75L18.45,3.32a2,2,0,0,1,2.83,0l1.4,1.43a1.91,1.91,0,0,1,.58,1.4,1.91,1.91,0,0,1-.58,1.4L9.25,21ZM18.45,9,17,7.55Zm-12,3A5.31,5.31,0,0,0,4.9,8.1,5.31,5.31,0,0,0,1,6.5,5.31,5.31,0,0,0,4.9,4.9,5.31,5.31,0,0,0,6.5,1,5.31,5.31,0,0,0,8.1,4.9,5.31,5.31,0,0,0,12,6.5,5.46,5.46,0,0,0,6.5,12Z\"/>\n",
              "  </svg>\n",
              "    </button>\n",
              "    <script>\n",
              "      (() => {\n",
              "      const buttonEl =\n",
              "        document.querySelector('#id_a2cf1e75-9b1e-45dc-b66a-947e267ba084 button.colab-df-generate');\n",
              "      buttonEl.style.display =\n",
              "        google.colab.kernel.accessAllowed ? 'block' : 'none';\n",
              "\n",
              "      buttonEl.onclick = () => {\n",
              "        google.colab.notebook.generateWithVariable('data');\n",
              "      }\n",
              "      })();\n",
              "    </script>\n",
              "  </div>\n",
              "\n",
              "    </div>\n",
              "  </div>\n"
            ],
            "application/vnd.google.colaboratory.intrinsic+json": {
              "type": "dataframe",
              "variable_name": "data",
              "summary": "{\n  \"name\": \"data\",\n  \"rows\": 2000,\n  \"fields\": [\n    {\n      \"column\": \"Data\",\n      \"properties\": {\n        \"dtype\": \"string\",\n        \"num_unique_values\": 2000,\n        \"samples\": [\n          \"Xref: cantaloupe.srv.cs.cmu.edu misc.headlines:41725 talk.politics.misc:178455 soc.culture.african.american:27032\\nPath: cantaloupe.srv.cs.cmu.edu!das-news.harvard.edu!noc.near.net!uunet!enterpoop.mit.edu!senator-bedfellow.mit.edu!senator-bedfellow.mit.edu!usenet\\nFrom: wdstarr@athena.mit.edu (William December Starr)\\nNewsgroups: misc.headlines,talk.politics.misc,soc.culture.african.american\\nSubject: Re: rnitedace and violence\\nDate: 19 Apr 1993 03:25:19 GMT\\nOrganization: Northeastern Law, Class of '93\\nLines: 20\\nDistribution: usa\\nMessage-ID: <1qt62vINN78p@senator-bedfellow.MIT.EDU>\\nReferences: <mdouglasC5nIEu.1w9@netcom.com> <C5ovG2.J24@magpie.linknet.com>\\nNNTP-Posting-Host: nw12-326-1.mit.edu\\nIn-reply-to: neal@magpie.linknet.com (Neal)\\n\\n\\nIn article <C5ovG2.J24@magpie.linknet.com>, \\nneal@magpie.linknet.com (Neal) said:\\n\\n> My views are out of experiences when I was a police officer in a large\\n> metropolitan area, and of a citizen. Unless people account for their\\n> behavior, and for the behavior of their immediate community, nothing\\n> will improve.\\n\\nWait a minute.  I agree with you that people have to take responsibility\\nfor their own behavior (I assume that's what you meant by the word\\n\\\"account\\\"), but also for \\\"the behavior of their immediate community\\\"?\\n\\nFirst of all, how \\\"immediate\\\" are you talking about, and secondly, I\\nhave a lot of trouble with any theory of social behavior or justice\\nwhich charges anyone with the duty of taking responsibility for or\\naccounting for the actions of a different person...\\n\\n-- William December Starr <wdstarr@athena.mit.edu>\\n\\n\",\n          \"Newsgroups: comp.sys.ibm.pc.hardware\\nPath: cantaloupe.srv.cs.cmu.edu!das-news.harvard.edu!noc.near.net!howland.reston.ans.net!gatech!swrinde!network.ucsd.edu!pacbell.com!amdahl!amdcad!dvorak.amd.com!tdbear\\nFrom: tdbear@dvorak.amd.com (Thomas D. Barrett)\\nSubject: Re: Rockwell Chipset for 14.4's ... Any good?\\nMessage-ID: <1993Apr19.012351.13406@dvorak.amd.com>\\nOrganization: Advanced Micro Devices, Inc.; Austin, Texas\\nReferences: <im14u2c.735176900@camelot>\\nDate: Mon, 19 Apr 93 01:23:51 GMT\\nLines: 28\\n\\nIn article <im14u2c.735176900@camelot> im14u2c@camelot.bradley.edu (Joe Zbiciak) writes:\\n>What's the word on the chipset?  Is this a ROM bug specific \\n>to a specific brand using the Rockwell, or is it the Rockwell\\n>chipset itself?\\n\\nThere were an assortment of firmware problems, but that is pretty much\\nexpected with any FAX/modem talking with a different FAX or modem\\nwhich may have also been revised or is new.  I'm pretty much\\noblivious to any current firmware problems, so you'll have to get it\\nfrom someone else.\\n\\nHowever, I can tell you to stay clear of any board which uses the\\nRockwell MPU (as opposed to the DPU) for an internal implementation.\\nThis is because the MPU used \\\"speed buffering\\\" instead of having a\\n16550 interface.  Without the 550 interface, the number of interrupts\\nare still the same and thus may get dropped under multitasking\\nconditions (like in windows).  As far as I know, the \\\"speed buffering\\\"\\nworks OK for external modems if a 550 is used on the internal serial\\nport board.\\n\\nHope this helps...\\nTom\\n\\n-- \\n|Tom Barrett (TDBear), Sr. Engineer|tom.barrett@amd.com|v:512-462-6856 |\\n|AMD PCD MS-520 | 5900 E. Ben White|Austin, TX  78741  |f:512-462-5155 |\\n|...don't take no/take hold/don't leave it to chance ---Tasmin Archer  |\\n|My views are my own and may not be the same as the company of origin  |\\n\",\n          \"Xref: cantaloupe.srv.cs.cmu.edu sci.energy:15692 sci.image.processing:2712 sci.anthropology:2567 sci.skeptic:43417 sci.med:59143\\nNewsgroups: sci.energy,sci.image.processing,sci.anthropology,sci.skeptic,sci.med\\nPath: cantaloupe.srv.cs.cmu.edu!magnesium.club.cc.cmu.edu!news.sei.cmu.edu!cis.ohio-state.edu!zaphod.mps.ohio-state.edu!sdd.hp.com!network.ucsd.edu!news.service.uci.edu!unogate!stgprao\\nFrom: stgprao@st.unocal.COM (Richard Ottolini)\\nSubject: Re: Krillean Photography\\nMessage-ID: <1993Apr22.153815.11961@unocal.com>\\nSender: news@unocal.com (Unocal USENET News)\\nOrganization: Unocal Corporation\\nReferences: <1993Apr19.205615.1013@unlv.edu> <BLS101.93Apr21171051@keating.anu.edu.au> <21APR199316170714@oregon.uoregon.edu>\\nDate: Thu, 22 Apr 1993 15:38:15 GMT\\nLines: 20\\n\\nLiving things maintain small electric fields to (1) enhance certain\\nchemical reactions, (2) promote communication of states with in a cell,\\n(3) communicate between cells (of which the nervous system is a specialized\\nexample), and perhaps other uses.  These electric fields change with location\\nand time in a large organism.  Special photographic techniques such as applying\\nexternal fields in Kirillian photography interact with these fields or the resistances\\ncaused by these fields to make interesting pictures. Perhaps such pictures will\\nbe diagonistic of disease problems in organisms when better understood. Perhaps not.\\n\\nStudying the overall electric activity of biological systems is several hundred\\nyears old, but not a popular activity.  Perhaps, except in the case of a few\\ntissues like nerves and the electric senses of fishes, it is hard to reduce the\\ninvestigation into small pieces that can be clearly analyzed.  There are some\\nhints that manipulating electric fields is a useful therapy such as speeding\\nthe healing of broken bones, but not understood why.\\n\\nBioelectricity has a long association with mysticism. Ideas such as Frankenstein\\nreanimation go back to the most early electrical experiments on tissue such as\\nwhen Volta invented the battery.  I personally don't care to revert to supernatural\\ncause to explain things we don't yet understand.\\n\"\n        ],\n        \"semantic_type\": \"\",\n        \"description\": \"\"\n      }\n    },\n    {\n      \"column\": \"Labels\",\n      \"properties\": {\n        \"dtype\": \"category\",\n        \"num_unique_values\": 20,\n        \"samples\": [\n          \"alt.atheism\",\n          \"talk.politics.mideast\",\n          \"soc.religion.christian\"\n        ],\n        \"semantic_type\": \"\",\n        \"description\": \"\"\n      }\n    }\n  ]\n}"
            }
          },
          "metadata": {},
          "execution_count": 1
        }
      ],
      "source": [
        "# Step 1: Data Exploration and Preprocessing\n",
        "\n",
        "import pandas as pd\n",
        "data = pd.read_csv('/content/blogs.csv')\n",
        "data"
      ]
    },
    {
      "cell_type": "code",
      "source": [
        "print(data.info())"
      ],
      "metadata": {
        "colab": {
          "base_uri": "https://localhost:8080/"
        },
        "id": "dgWNlcPYgPEi",
        "outputId": "cb063565-19de-43c9-aa6e-3fc668cc7b20"
      },
      "execution_count": 2,
      "outputs": [
        {
          "output_type": "stream",
          "name": "stdout",
          "text": [
            "<class 'pandas.core.frame.DataFrame'>\n",
            "RangeIndex: 2000 entries, 0 to 1999\n",
            "Data columns (total 2 columns):\n",
            " #   Column  Non-Null Count  Dtype \n",
            "---  ------  --------------  ----- \n",
            " 0   Data    2000 non-null   object\n",
            " 1   Labels  2000 non-null   object\n",
            "dtypes: object(2)\n",
            "memory usage: 31.4+ KB\n",
            "None\n"
          ]
        }
      ]
    },
    {
      "cell_type": "code",
      "source": [
        "# Check for missing values\n",
        "missing_values = data.isnull().sum()\n",
        "print(f\"Missing values:\\n{missing_values}\")"
      ],
      "metadata": {
        "colab": {
          "base_uri": "https://localhost:8080/"
        },
        "id": "WKZ1J9zTgXu6",
        "outputId": "82556a9e-bbe5-41fb-d10c-c21e2cd78308"
      },
      "execution_count": 3,
      "outputs": [
        {
          "output_type": "stream",
          "name": "stdout",
          "text": [
            "Missing values:\n",
            "Data      0\n",
            "Labels    0\n",
            "dtype: int64\n"
          ]
        }
      ]
    },
    {
      "cell_type": "code",
      "source": [
        "# Display the distribution of categories\n",
        "category_distribution = data['Labels'].value_counts()\n",
        "print(f\"Category distribution:\\n{category_distribution}\")"
      ],
      "metadata": {
        "colab": {
          "base_uri": "https://localhost:8080/"
        },
        "id": "jXOfhSEdgZOP",
        "outputId": "e29ed564-6888-47b1-f12c-c50ba24fc7cb"
      },
      "execution_count": 4,
      "outputs": [
        {
          "output_type": "stream",
          "name": "stdout",
          "text": [
            "Category distribution:\n",
            "Labels\n",
            "alt.atheism                 100\n",
            "comp.graphics               100\n",
            "talk.politics.misc          100\n",
            "talk.politics.mideast       100\n",
            "talk.politics.guns          100\n",
            "soc.religion.christian      100\n",
            "sci.space                   100\n",
            "sci.med                     100\n",
            "sci.electronics             100\n",
            "sci.crypt                   100\n",
            "rec.sport.hockey            100\n",
            "rec.sport.baseball          100\n",
            "rec.motorcycles             100\n",
            "rec.autos                   100\n",
            "misc.forsale                100\n",
            "comp.windows.x              100\n",
            "comp.sys.mac.hardware       100\n",
            "comp.sys.ibm.pc.hardware    100\n",
            "comp.os.ms-windows.misc     100\n",
            "talk.religion.misc          100\n",
            "Name: count, dtype: int64\n"
          ]
        }
      ]
    },
    {
      "cell_type": "code",
      "source": [
        "print(data.head())"
      ],
      "metadata": {
        "colab": {
          "base_uri": "https://localhost:8080/"
        },
        "id": "5fJ1FUs1gZtN",
        "outputId": "48c219e3-4869-480d-e09c-3501a52aa281"
      },
      "execution_count": 5,
      "outputs": [
        {
          "output_type": "stream",
          "name": "stdout",
          "text": [
            "                                                Data       Labels\n",
            "0  Path: cantaloupe.srv.cs.cmu.edu!magnesium.club...  alt.atheism\n",
            "1  Newsgroups: alt.atheism\\nPath: cantaloupe.srv....  alt.atheism\n",
            "2  Path: cantaloupe.srv.cs.cmu.edu!das-news.harva...  alt.atheism\n",
            "3  Path: cantaloupe.srv.cs.cmu.edu!magnesium.club...  alt.atheism\n",
            "4  Xref: cantaloupe.srv.cs.cmu.edu alt.atheism:53...  alt.atheism\n"
          ]
        }
      ]
    },
    {
      "cell_type": "code",
      "source": [
        "import string\n",
        "import nltk\n",
        "from nltk.corpus import stopwords\n",
        "from nltk.tokenize import word_tokenize\n",
        "\n",
        "nltk.download('punkt')\n",
        "nltk.download('stopwords')\n",
        "\n",
        "def preprocess_text(text):\n",
        "    text = text.lower()\n",
        "    text = text.translate(str.maketrans('', '', string.punctuation))\n",
        "    tokens = word_tokenize(text)\n",
        "    tokens = [word for word in tokens if word not in stopwords.words('english')]\n",
        "    processed_text = ' '.join(tokens)\n",
        "    return processed_text\n",
        "\n",
        "data['Processed_Text'] = data['Data'].apply(preprocess_text)"
      ],
      "metadata": {
        "colab": {
          "base_uri": "https://localhost:8080/"
        },
        "id": "-lShbqwDgbor",
        "outputId": "09edd846-aeb1-4124-dad3-7ce7babd81d1"
      },
      "execution_count": 6,
      "outputs": [
        {
          "output_type": "stream",
          "name": "stderr",
          "text": [
            "[nltk_data] Downloading package punkt to /root/nltk_data...\n",
            "[nltk_data]   Unzipping tokenizers/punkt.zip.\n",
            "[nltk_data] Downloading package stopwords to /root/nltk_data...\n",
            "[nltk_data]   Unzipping corpora/stopwords.zip.\n"
          ]
        }
      ]
    },
    {
      "cell_type": "code",
      "source": [
        "data['Processed_Text']"
      ],
      "metadata": {
        "colab": {
          "base_uri": "https://localhost:8080/"
        },
        "id": "w7ZyGRKagn35",
        "outputId": "16c543f5-8775-454f-da2a-57afca1a7507"
      },
      "execution_count": 7,
      "outputs": [
        {
          "output_type": "execute_result",
          "data": {
            "text/plain": [
              "0       path cantaloupesrvcscmuedumagnesiumclubcccmued...\n",
              "1       newsgroups altatheism path cantaloupesrvcscmue...\n",
              "2       path cantaloupesrvcscmuedudasnewsharvardedunoc...\n",
              "3       path cantaloupesrvcscmuedumagnesiumclubcccmued...\n",
              "4       xref cantaloupesrvcscmuedu altatheism53485 tal...\n",
              "                              ...                        \n",
              "1995    xref cantaloupesrvcscmuedu talkabortion120945 ...\n",
              "1996    xref cantaloupesrvcscmuedu talkreligionmisc837...\n",
              "1997    xref cantaloupesrvcscmuedu talkorigins41030 ta...\n",
              "1998    xref cantaloupesrvcscmuedu talkreligionmisc836...\n",
              "1999    xref cantaloupesrvcscmuedu sciskeptic43561 tal...\n",
              "Name: Processed_Text, Length: 2000, dtype: object"
            ]
          },
          "metadata": {},
          "execution_count": 7
        }
      ]
    },
    {
      "cell_type": "code",
      "source": [
        "from sklearn.feature_extraction.text import TfidfVectorizer\n",
        "tfidf_vectorizer = TfidfVectorizer()\n",
        "X = tfidf_vectorizer.fit_transform(data['Processed_Text'])\n",
        "print(X.shape)"
      ],
      "metadata": {
        "colab": {
          "base_uri": "https://localhost:8080/"
        },
        "id": "T5vDyCcThhrX",
        "outputId": "7c5b2e42-be09-4a56-dcf6-50b9ca802ac9"
      },
      "execution_count": 8,
      "outputs": [
        {
          "output_type": "stream",
          "name": "stdout",
          "text": [
            "(2000, 56432)\n"
          ]
        }
      ]
    },
    {
      "cell_type": "code",
      "source": [
        "# Step 2: Naive Bayes Model for Text Classification\n",
        "\n",
        "from sklearn.model_selection import train_test_split\n",
        "X_train, X_test, y_train, y_test = train_test_split(X, data['Labels'], test_size=0.2, random_state=42)\n",
        "X_train, X_test, y_train, y_test"
      ],
      "metadata": {
        "colab": {
          "base_uri": "https://localhost:8080/"
        },
        "id": "bMdpQshBhrS7",
        "outputId": "c71003fa-ccd3-4541-a774-fc1defbee0ac"
      },
      "execution_count": 11,
      "outputs": [
        {
          "output_type": "execute_result",
          "data": {
            "text/plain": [
              "(<1600x56432 sparse matrix of type '<class 'numpy.float64'>'\n",
              " \twith 218452 stored elements in Compressed Sparse Row format>,\n",
              " <400x56432 sparse matrix of type '<class 'numpy.float64'>'\n",
              " \twith 49571 stored elements in Compressed Sparse Row format>,\n",
              " 968          rec.sport.baseball\n",
              " 240     comp.os.ms-windows.misc\n",
              " 819             rec.motorcycles\n",
              " 692                misc.forsale\n",
              " 420       comp.sys.mac.hardware\n",
              "                  ...           \n",
              " 1130                  sci.crypt\n",
              " 1294            sci.electronics\n",
              " 860             rec.motorcycles\n",
              " 1459                  sci.space\n",
              " 1126                  sci.crypt\n",
              " Name: Labels, Length: 1600, dtype: object,\n",
              " 1860          talk.politics.misc\n",
              " 353     comp.sys.ibm.pc.hardware\n",
              " 1333                     sci.med\n",
              " 905           rec.sport.baseball\n",
              " 1289             sci.electronics\n",
              "                   ...           \n",
              " 965           rec.sport.baseball\n",
              " 1284             sci.electronics\n",
              " 1739       talk.politics.mideast\n",
              " 261      comp.os.ms-windows.misc\n",
              " 535               comp.windows.x\n",
              " Name: Labels, Length: 400, dtype: object)"
            ]
          },
          "metadata": {},
          "execution_count": 11
        }
      ]
    },
    {
      "cell_type": "code",
      "source": [
        "print(f\"Training set size: {X_train.shape}\")\n",
        "print(f\"Test set size: {X_test.shape}\")"
      ],
      "metadata": {
        "colab": {
          "base_uri": "https://localhost:8080/"
        },
        "id": "GRXwoP_rhyQR",
        "outputId": "9d9cff1e-fc9f-42e1-f595-4c9c3b845192"
      },
      "execution_count": 12,
      "outputs": [
        {
          "output_type": "stream",
          "name": "stdout",
          "text": [
            "Training set size: (1600, 56432)\n",
            "Test set size: (400, 56432)\n"
          ]
        }
      ]
    },
    {
      "cell_type": "code",
      "source": [
        "from sklearn.naive_bayes import MultinomialNB\n",
        "\n",
        "# Initialize the Naive Bayes classifier\n",
        "nb_classifier = MultinomialNB()\n",
        "\n",
        "# Train the model on the training set\n",
        "nb_classifier.fit(X_train, y_train)"
      ],
      "metadata": {
        "colab": {
          "base_uri": "https://localhost:8080/",
          "height": 74
        },
        "id": "LP8oLpzfh7rs",
        "outputId": "5223a0cd-160e-4f15-8f11-1dc98e942fca"
      },
      "execution_count": 13,
      "outputs": [
        {
          "output_type": "execute_result",
          "data": {
            "text/plain": [
              "MultinomialNB()"
            ],
            "text/html": [
              "<style>#sk-container-id-1 {color: black;background-color: white;}#sk-container-id-1 pre{padding: 0;}#sk-container-id-1 div.sk-toggleable {background-color: white;}#sk-container-id-1 label.sk-toggleable__label {cursor: pointer;display: block;width: 100%;margin-bottom: 0;padding: 0.3em;box-sizing: border-box;text-align: center;}#sk-container-id-1 label.sk-toggleable__label-arrow:before {content: \"▸\";float: left;margin-right: 0.25em;color: #696969;}#sk-container-id-1 label.sk-toggleable__label-arrow:hover:before {color: black;}#sk-container-id-1 div.sk-estimator:hover label.sk-toggleable__label-arrow:before {color: black;}#sk-container-id-1 div.sk-toggleable__content {max-height: 0;max-width: 0;overflow: hidden;text-align: left;background-color: #f0f8ff;}#sk-container-id-1 div.sk-toggleable__content pre {margin: 0.2em;color: black;border-radius: 0.25em;background-color: #f0f8ff;}#sk-container-id-1 input.sk-toggleable__control:checked~div.sk-toggleable__content {max-height: 200px;max-width: 100%;overflow: auto;}#sk-container-id-1 input.sk-toggleable__control:checked~label.sk-toggleable__label-arrow:before {content: \"▾\";}#sk-container-id-1 div.sk-estimator input.sk-toggleable__control:checked~label.sk-toggleable__label {background-color: #d4ebff;}#sk-container-id-1 div.sk-label input.sk-toggleable__control:checked~label.sk-toggleable__label {background-color: #d4ebff;}#sk-container-id-1 input.sk-hidden--visually {border: 0;clip: rect(1px 1px 1px 1px);clip: rect(1px, 1px, 1px, 1px);height: 1px;margin: -1px;overflow: hidden;padding: 0;position: absolute;width: 1px;}#sk-container-id-1 div.sk-estimator {font-family: monospace;background-color: #f0f8ff;border: 1px dotted black;border-radius: 0.25em;box-sizing: border-box;margin-bottom: 0.5em;}#sk-container-id-1 div.sk-estimator:hover {background-color: #d4ebff;}#sk-container-id-1 div.sk-parallel-item::after {content: \"\";width: 100%;border-bottom: 1px solid gray;flex-grow: 1;}#sk-container-id-1 div.sk-label:hover label.sk-toggleable__label {background-color: #d4ebff;}#sk-container-id-1 div.sk-serial::before {content: \"\";position: absolute;border-left: 1px solid gray;box-sizing: border-box;top: 0;bottom: 0;left: 50%;z-index: 0;}#sk-container-id-1 div.sk-serial {display: flex;flex-direction: column;align-items: center;background-color: white;padding-right: 0.2em;padding-left: 0.2em;position: relative;}#sk-container-id-1 div.sk-item {position: relative;z-index: 1;}#sk-container-id-1 div.sk-parallel {display: flex;align-items: stretch;justify-content: center;background-color: white;position: relative;}#sk-container-id-1 div.sk-item::before, #sk-container-id-1 div.sk-parallel-item::before {content: \"\";position: absolute;border-left: 1px solid gray;box-sizing: border-box;top: 0;bottom: 0;left: 50%;z-index: -1;}#sk-container-id-1 div.sk-parallel-item {display: flex;flex-direction: column;z-index: 1;position: relative;background-color: white;}#sk-container-id-1 div.sk-parallel-item:first-child::after {align-self: flex-end;width: 50%;}#sk-container-id-1 div.sk-parallel-item:last-child::after {align-self: flex-start;width: 50%;}#sk-container-id-1 div.sk-parallel-item:only-child::after {width: 0;}#sk-container-id-1 div.sk-dashed-wrapped {border: 1px dashed gray;margin: 0 0.4em 0.5em 0.4em;box-sizing: border-box;padding-bottom: 0.4em;background-color: white;}#sk-container-id-1 div.sk-label label {font-family: monospace;font-weight: bold;display: inline-block;line-height: 1.2em;}#sk-container-id-1 div.sk-label-container {text-align: center;}#sk-container-id-1 div.sk-container {/* jupyter's `normalize.less` sets `[hidden] { display: none; }` but bootstrap.min.css set `[hidden] { display: none !important; }` so we also need the `!important` here to be able to override the default hidden behavior on the sphinx rendered scikit-learn.org. See: https://github.com/scikit-learn/scikit-learn/issues/21755 */display: inline-block !important;position: relative;}#sk-container-id-1 div.sk-text-repr-fallback {display: none;}</style><div id=\"sk-container-id-1\" class=\"sk-top-container\"><div class=\"sk-text-repr-fallback\"><pre>MultinomialNB()</pre><b>In a Jupyter environment, please rerun this cell to show the HTML representation or trust the notebook. <br />On GitHub, the HTML representation is unable to render, please try loading this page with nbviewer.org.</b></div><div class=\"sk-container\" hidden><div class=\"sk-item\"><div class=\"sk-estimator sk-toggleable\"><input class=\"sk-toggleable__control sk-hidden--visually\" id=\"sk-estimator-id-1\" type=\"checkbox\" checked><label for=\"sk-estimator-id-1\" class=\"sk-toggleable__label sk-toggleable__label-arrow\">MultinomialNB</label><div class=\"sk-toggleable__content\"><pre>MultinomialNB()</pre></div></div></div></div></div>"
            ]
          },
          "metadata": {},
          "execution_count": 13
        }
      ]
    },
    {
      "cell_type": "code",
      "source": [
        "y_pred = nb_classifier.predict(X_test)\n",
        "print(y_pred)"
      ],
      "metadata": {
        "colab": {
          "base_uri": "https://localhost:8080/"
        },
        "id": "l-QP1fpFh-Uo",
        "outputId": "1e369127-000b-4b3d-e919-7ba21cd66cc8"
      },
      "execution_count": 14,
      "outputs": [
        {
          "output_type": "stream",
          "name": "stdout",
          "text": [
            "['talk.politics.misc' 'comp.sys.ibm.pc.hardware' 'sci.med'\n",
            " 'rec.sport.baseball' 'sci.electronics' 'sci.electronics'\n",
            " 'rec.sport.baseball' 'talk.politics.mideast' 'alt.atheism' 'sci.med'\n",
            " 'alt.atheism' 'sci.electronics' 'sci.crypt' 'rec.sport.baseball'\n",
            " 'comp.sys.ibm.pc.hardware' 'comp.os.ms-windows.misc' 'rec.autos'\n",
            " 'comp.graphics' 'talk.politics.guns' 'talk.politics.misc'\n",
            " 'comp.sys.mac.hardware' 'alt.atheism' 'alt.atheism' 'rec.sport.hockey'\n",
            " 'alt.atheism' 'sci.crypt' 'talk.politics.misc' 'rec.sport.baseball'\n",
            " 'rec.autos' 'alt.atheism' 'talk.politics.misc' 'rec.sport.hockey'\n",
            " 'comp.windows.x' 'rec.sport.hockey' 'rec.sport.hockey'\n",
            " 'comp.sys.mac.hardware' 'sci.med' 'sci.electronics' 'rec.sport.hockey'\n",
            " 'comp.os.ms-windows.misc' 'sci.electronics' 'soc.religion.christian'\n",
            " 'comp.os.ms-windows.misc' 'talk.politics.misc' 'soc.religion.christian'\n",
            " 'rec.motorcycles' 'comp.windows.x' 'rec.motorcycles' 'alt.atheism'\n",
            " 'talk.politics.guns' 'soc.religion.christian' 'comp.os.ms-windows.misc'\n",
            " 'sci.space' 'comp.os.ms-windows.misc' 'rec.sport.baseball'\n",
            " 'talk.politics.mideast' 'sci.electronics' 'talk.politics.guns'\n",
            " 'sci.crypt' 'comp.sys.ibm.pc.hardware' 'sci.space' 'comp.graphics'\n",
            " 'talk.politics.guns' 'rec.sport.hockey' 'talk.religion.misc'\n",
            " 'talk.politics.misc' 'rec.sport.baseball' 'soc.religion.christian'\n",
            " 'comp.graphics' 'sci.space' 'sci.space' 'comp.sys.ibm.pc.hardware'\n",
            " 'sci.med' 'rec.sport.hockey' 'rec.motorcycles' 'comp.sys.ibm.pc.hardware'\n",
            " 'talk.politics.guns' 'talk.politics.misc' 'sci.electronics'\n",
            " 'talk.politics.misc' 'alt.atheism' 'rec.motorcycles' 'sci.space'\n",
            " 'soc.religion.christian' 'talk.politics.misc' 'rec.sport.baseball'\n",
            " 'talk.politics.mideast' 'comp.sys.mac.hardware' 'comp.graphics'\n",
            " 'talk.politics.guns' 'soc.religion.christian' 'talk.politics.mideast'\n",
            " 'comp.os.ms-windows.misc' 'comp.os.ms-windows.misc' 'talk.politics.misc'\n",
            " 'talk.politics.misc' 'comp.graphics' 'sci.electronics'\n",
            " 'soc.religion.christian' 'talk.politics.misc' 'rec.sport.baseball'\n",
            " 'rec.sport.baseball' 'comp.sys.mac.hardware' 'sci.med'\n",
            " 'comp.os.ms-windows.misc' 'rec.motorcycles' 'misc.forsale'\n",
            " 'comp.os.ms-windows.misc' 'rec.motorcycles' 'comp.windows.x' 'rec.autos'\n",
            " 'sci.space' 'rec.sport.hockey' 'talk.politics.mideast' 'rec.autos'\n",
            " 'sci.crypt' 'sci.crypt' 'rec.sport.baseball' 'comp.sys.ibm.pc.hardware'\n",
            " 'talk.politics.misc' 'talk.politics.misc' 'rec.sport.hockey' 'sci.crypt'\n",
            " 'comp.sys.mac.hardware' 'comp.sys.ibm.pc.hardware'\n",
            " 'soc.religion.christian' 'comp.sys.mac.hardware' 'rec.motorcycles'\n",
            " 'sci.crypt' 'comp.sys.ibm.pc.hardware' 'talk.religion.misc'\n",
            " 'talk.politics.misc' 'rec.autos' 'comp.windows.x' 'rec.motorcycles'\n",
            " 'rec.sport.baseball' 'alt.atheism' 'alt.atheism' 'talk.politics.guns'\n",
            " 'soc.religion.christian' 'sci.med' 'comp.sys.ibm.pc.hardware'\n",
            " 'talk.politics.misc' 'rec.motorcycles' 'soc.religion.christian'\n",
            " 'comp.windows.x' 'misc.forsale' 'comp.sys.mac.hardware'\n",
            " 'comp.os.ms-windows.misc' 'comp.graphics' 'talk.politics.guns'\n",
            " 'rec.sport.baseball' 'misc.forsale' 'sci.crypt'\n",
            " 'comp.sys.ibm.pc.hardware' 'misc.forsale' 'comp.windows.x'\n",
            " 'talk.politics.guns' 'comp.windows.x' 'talk.politics.guns' 'misc.forsale'\n",
            " 'rec.motorcycles' 'comp.graphics' 'sci.crypt' 'talk.religion.misc'\n",
            " 'sci.space' 'talk.politics.mideast' 'sci.electronics'\n",
            " 'comp.os.ms-windows.misc' 'talk.politics.mideast' 'sci.crypt'\n",
            " 'misc.forsale' 'alt.atheism' 'talk.politics.misc' 'comp.sys.mac.hardware'\n",
            " 'sci.med' 'rec.autos' 'sci.med' 'rec.motorcycles'\n",
            " 'soc.religion.christian' 'sci.electronics' 'rec.autos'\n",
            " 'talk.politics.misc' 'sci.crypt' 'rec.motorcycles' 'rec.autos'\n",
            " 'alt.atheism' 'talk.politics.guns' 'sci.crypt' 'sci.electronics'\n",
            " 'rec.autos' 'comp.os.ms-windows.misc' 'sci.med' 'comp.os.ms-windows.misc'\n",
            " 'alt.atheism' 'comp.sys.mac.hardware' 'sci.crypt' 'rec.motorcycles'\n",
            " 'misc.forsale' 'soc.religion.christian' 'talk.politics.misc'\n",
            " 'comp.windows.x' 'comp.graphics' 'rec.autos' 'comp.sys.mac.hardware'\n",
            " 'comp.os.ms-windows.misc' 'sci.space' 'comp.graphics' 'rec.sport.hockey'\n",
            " 'alt.atheism' 'talk.politics.mideast' 'alt.atheism'\n",
            " 'comp.os.ms-windows.misc' 'comp.graphics' 'rec.autos'\n",
            " 'talk.politics.misc' 'sci.crypt' 'comp.sys.ibm.pc.hardware'\n",
            " 'comp.sys.mac.hardware' 'sci.electronics' 'rec.sport.baseball'\n",
            " 'comp.graphics' 'comp.windows.x' 'sci.crypt' 'talk.politics.misc'\n",
            " 'talk.religion.misc' 'comp.sys.mac.hardware' 'comp.graphics'\n",
            " 'talk.politics.guns' 'comp.sys.ibm.pc.hardware' 'alt.atheism'\n",
            " 'comp.os.ms-windows.misc' 'talk.politics.guns' 'sci.space'\n",
            " 'talk.politics.mideast' 'comp.sys.ibm.pc.hardware' 'rec.sport.hockey'\n",
            " 'rec.motorcycles' 'sci.med' 'comp.windows.x' 'rec.autos'\n",
            " 'soc.religion.christian' 'comp.windows.x' 'rec.sport.baseball' 'sci.med'\n",
            " 'comp.graphics' 'rec.autos' 'soc.religion.christian' 'rec.motorcycles'\n",
            " 'sci.electronics' 'rec.sport.hockey' 'comp.sys.ibm.pc.hardware'\n",
            " 'sci.crypt' 'comp.sys.mac.hardware' 'sci.space' 'rec.sport.hockey'\n",
            " 'comp.windows.x' 'misc.forsale' 'talk.politics.misc' 'sci.electronics'\n",
            " 'alt.atheism' 'soc.religion.christian' 'alt.atheism' 'alt.atheism'\n",
            " 'rec.sport.hockey' 'soc.religion.christian' 'comp.graphics'\n",
            " 'comp.graphics' 'comp.os.ms-windows.misc' 'rec.sport.hockey' 'sci.med'\n",
            " 'alt.atheism' 'comp.sys.mac.hardware' 'talk.politics.guns' 'alt.atheism'\n",
            " 'alt.atheism' 'sci.electronics' 'comp.sys.mac.hardware' 'sci.space'\n",
            " 'comp.sys.ibm.pc.hardware' 'alt.atheism' 'sci.space' 'misc.forsale'\n",
            " 'sci.med' 'sci.med' 'alt.atheism' 'comp.os.ms-windows.misc'\n",
            " 'talk.politics.mideast' 'alt.atheism' 'comp.graphics'\n",
            " 'comp.sys.mac.hardware' 'soc.religion.christian' 'sci.space'\n",
            " 'talk.politics.guns' 'comp.windows.x' 'comp.sys.ibm.pc.hardware'\n",
            " 'talk.religion.misc' 'talk.politics.mideast' 'talk.politics.misc'\n",
            " 'comp.sys.mac.hardware' 'comp.windows.x' 'alt.atheism'\n",
            " 'talk.politics.guns' 'rec.sport.baseball' 'rec.autos'\n",
            " 'talk.religion.misc' 'sci.crypt' 'sci.med' 'rec.sport.baseball'\n",
            " 'alt.atheism' 'rec.sport.hockey' 'talk.politics.misc' 'sci.electronics'\n",
            " 'rec.sport.baseball' 'rec.sport.hockey' 'comp.graphics'\n",
            " 'soc.religion.christian' 'soc.religion.christian' 'talk.politics.misc'\n",
            " 'soc.religion.christian' 'alt.atheism' 'talk.politics.guns'\n",
            " 'comp.graphics' 'sci.crypt' 'rec.sport.baseball' 'comp.graphics'\n",
            " 'talk.religion.misc' 'misc.forsale' 'talk.politics.guns' 'rec.autos'\n",
            " 'comp.sys.mac.hardware' 'comp.windows.x' 'soc.religion.christian'\n",
            " 'comp.windows.x' 'comp.sys.ibm.pc.hardware' 'talk.politics.mideast'\n",
            " 'comp.os.ms-windows.misc' 'comp.graphics' 'sci.crypt'\n",
            " 'talk.politics.mideast' 'sci.space' 'comp.sys.ibm.pc.hardware'\n",
            " 'alt.atheism' 'rec.motorcycles' 'comp.windows.x' 'talk.politics.guns'\n",
            " 'comp.sys.ibm.pc.hardware' 'alt.atheism' 'soc.religion.christian'\n",
            " 'rec.sport.baseball' 'comp.graphics' 'comp.sys.mac.hardware' 'sci.space'\n",
            " 'talk.politics.guns' 'comp.graphics' 'comp.windows.x'\n",
            " 'talk.politics.mideast' 'talk.politics.mideast' 'sci.med' 'sci.crypt'\n",
            " 'talk.politics.misc' 'comp.sys.ibm.pc.hardware' 'rec.autos'\n",
            " 'rec.sport.hockey' 'misc.forsale' 'comp.sys.mac.hardware'\n",
            " 'talk.politics.mideast' 'sci.crypt' 'sci.crypt' 'comp.os.ms-windows.misc'\n",
            " 'soc.religion.christian' 'talk.politics.mideast' 'alt.atheism'\n",
            " 'talk.politics.misc' 'soc.religion.christian' 'soc.religion.christian'\n",
            " 'comp.sys.mac.hardware' 'talk.politics.mideast' 'talk.politics.misc'\n",
            " 'sci.space' 'sci.space' 'sci.electronics' 'comp.sys.mac.hardware'\n",
            " 'talk.politics.guns' 'comp.graphics' 'rec.autos' 'comp.graphics'\n",
            " 'sci.space' 'misc.forsale' 'soc.religion.christian'\n",
            " 'talk.politics.mideast' 'talk.politics.guns' 'comp.sys.mac.hardware'\n",
            " 'rec.autos' 'comp.windows.x' 'rec.sport.baseball' 'sci.electronics'\n",
            " 'talk.politics.mideast' 'sci.electronics' 'comp.windows.x']\n"
          ]
        }
      ]
    },
    {
      "cell_type": "code",
      "source": [
        "# Step 3: Sentiment Analysis\n",
        "\n",
        "from textblob import TextBlob\n",
        "def get_sentiment(text):\n",
        "    analysis = TextBlob(text)\n",
        "    if analysis.sentiment.polarity > 0:\n",
        "        return 'positive'\n",
        "    elif analysis.sentiment.polarity < 0:\n",
        "        return 'negative'\n",
        "    else:\n",
        "        return 'neutral'\n",
        "\n",
        "data['Sentiment'] = data['Data'].apply(get_sentiment)\n",
        "data['Sentiment']"
      ],
      "metadata": {
        "colab": {
          "base_uri": "https://localhost:8080/"
        },
        "id": "kdUTyn6ziCZd",
        "outputId": "9002a594-0dd8-41e8-e1df-f702dfab1c24"
      },
      "execution_count": 17,
      "outputs": [
        {
          "output_type": "execute_result",
          "data": {
            "text/plain": [
              "0       positive\n",
              "1       negative\n",
              "2       positive\n",
              "3       positive\n",
              "4       positive\n",
              "          ...   \n",
              "1995    positive\n",
              "1996    positive\n",
              "1997    positive\n",
              "1998    positive\n",
              "1999    positive\n",
              "Name: Sentiment, Length: 2000, dtype: object"
            ]
          },
          "metadata": {},
          "execution_count": 17
        }
      ]
    },
    {
      "cell_type": "code",
      "source": [
        "# Display the distribution of sentiments\n",
        "sentiment_distribution = data['Sentiment'].value_counts()\n",
        "print(f\"Sentiment distribution:\\n{sentiment_distribution}\")"
      ],
      "metadata": {
        "colab": {
          "base_uri": "https://localhost:8080/"
        },
        "id": "A49V5WSaiL1t",
        "outputId": "8c037a3f-4934-4747-f5c2-3590f1ad5055"
      },
      "execution_count": 18,
      "outputs": [
        {
          "output_type": "stream",
          "name": "stdout",
          "text": [
            "Sentiment distribution:\n",
            "Sentiment\n",
            "positive    1543\n",
            "negative     457\n",
            "Name: count, dtype: int64\n"
          ]
        }
      ]
    },
    {
      "cell_type": "code",
      "source": [
        "# Examine the distribution of sentiments across different categories\n",
        "sentiment_category_distribution = data.groupby('Labels')['Sentiment'].value_counts().unstack().fillna(0)\n",
        "print(f\"Sentiment distribution across categories:\\n{sentiment_category_distribution}\")"
      ],
      "metadata": {
        "colab": {
          "base_uri": "https://localhost:8080/"
        },
        "id": "-2wHn5HBiZOt",
        "outputId": "7fe765ad-4242-4d80-a9a0-0ed0d76d56a6"
      },
      "execution_count": 19,
      "outputs": [
        {
          "output_type": "stream",
          "name": "stdout",
          "text": [
            "Sentiment distribution across categories:\n",
            "Sentiment                 negative  positive\n",
            "Labels                                      \n",
            "alt.atheism                     23        77\n",
            "comp.graphics                   24        76\n",
            "comp.os.ms-windows.misc         22        78\n",
            "comp.sys.ibm.pc.hardware        20        80\n",
            "comp.sys.mac.hardware           24        76\n",
            "comp.windows.x                  27        73\n",
            "misc.forsale                    16        84\n",
            "rec.autos                       17        83\n",
            "rec.motorcycles                 26        74\n",
            "rec.sport.baseball              29        71\n",
            "rec.sport.hockey                34        66\n",
            "sci.crypt                       19        81\n",
            "sci.electronics                 19        81\n",
            "sci.med                         29        71\n",
            "sci.space                       27        73\n",
            "soc.religion.christian          13        87\n",
            "talk.politics.guns              30        70\n",
            "talk.politics.mideast           22        78\n",
            "talk.politics.misc              22        78\n",
            "talk.religion.misc              14        86\n"
          ]
        }
      ]
    },
    {
      "cell_type": "code",
      "source": [
        "# Step 4: Evaluation\n",
        "\n",
        "from sklearn.metrics import accuracy_score, precision_score, recall_score, f1_score, classification_report\n",
        "accuracy = accuracy_score(y_test, y_pred)\n",
        "print(f\"Accuracy: {accuracy}\")"
      ],
      "metadata": {
        "colab": {
          "base_uri": "https://localhost:8080/"
        },
        "id": "NTH1ZIlviZ_8",
        "outputId": "abb08aff-abba-46e9-ebb6-c4c797a569ca"
      },
      "execution_count": 20,
      "outputs": [
        {
          "output_type": "stream",
          "name": "stdout",
          "text": [
            "Accuracy: 0.82\n"
          ]
        }
      ]
    },
    {
      "cell_type": "code",
      "source": [
        "# Calculate precision, recall, and F1-score\n",
        "precision = precision_score(y_test, y_pred, average='weighted')\n",
        "recall = recall_score(y_test, y_pred, average='weighted')\n",
        "f1 = f1_score(y_test, y_pred, average='weighted')\n",
        "print(f\"Precision: {precision}\")\n",
        "print(f\"Recall: {recall}\")\n",
        "print(f\"F1-score: {f1}\")"
      ],
      "metadata": {
        "colab": {
          "base_uri": "https://localhost:8080/"
        },
        "id": "MyajYUFwig7-",
        "outputId": "8d08ebde-68f9-4963-f721-57617e0aa483"
      },
      "execution_count": 21,
      "outputs": [
        {
          "output_type": "stream",
          "name": "stdout",
          "text": [
            "Precision: 0.844747244324381\n",
            "Recall: 0.82\n",
            "F1-score: 0.8144501134827706\n"
          ]
        }
      ]
    },
    {
      "cell_type": "code",
      "source": [
        "# Display the classification report\n",
        "classification_report = classification_report(y_test, y_pred)\n",
        "print(f\"Classification Report:\\n{classification_report}\")"
      ],
      "metadata": {
        "colab": {
          "base_uri": "https://localhost:8080/"
        },
        "id": "Yat2ebkjiguN",
        "outputId": "6310e2b7-99dc-4848-bd43-f26b50542506"
      },
      "execution_count": 22,
      "outputs": [
        {
          "output_type": "stream",
          "name": "stdout",
          "text": [
            "Classification Report:\n",
            "                          precision    recall  f1-score   support\n",
            "\n",
            "             alt.atheism       0.52      0.89      0.65        18\n",
            "           comp.graphics       0.62      0.83      0.71        18\n",
            " comp.os.ms-windows.misc       0.95      0.86      0.90        22\n",
            "comp.sys.ibm.pc.hardware       0.95      0.76      0.84        25\n",
            "   comp.sys.mac.hardware       0.87      0.95      0.91        21\n",
            "          comp.windows.x       1.00      0.80      0.89        25\n",
            "            misc.forsale       0.92      0.61      0.73        18\n",
            "               rec.autos       0.89      0.89      0.89        18\n",
            "         rec.motorcycles       0.88      0.88      0.88        16\n",
            "      rec.sport.baseball       0.80      0.89      0.84        18\n",
            "        rec.sport.hockey       0.83      1.00      0.91        15\n",
            "               sci.crypt       0.82      0.95      0.88        19\n",
            "         sci.electronics       0.68      0.81      0.74        16\n",
            "                 sci.med       0.94      0.88      0.91        17\n",
            "               sci.space       1.00      0.86      0.92        21\n",
            "  soc.religion.christian       0.85      0.96      0.90        23\n",
            "      talk.politics.guns       0.95      0.75      0.84        28\n",
            "   talk.politics.mideast       0.95      0.95      0.95        20\n",
            "      talk.politics.misc       0.57      0.89      0.70        18\n",
            "      talk.religion.misc       0.71      0.21      0.32        24\n",
            "\n",
            "                accuracy                           0.82       400\n",
            "               macro avg       0.84      0.83      0.82       400\n",
            "            weighted avg       0.84      0.82      0.81       400\n",
            "\n"
          ]
        }
      ]
    },
    {
      "cell_type": "code",
      "source": [
        "# Reflect on the sentiment analysis results\n",
        "print(f\"Sentiment distribution:\\n{sentiment_distribution}\")\n",
        "print(f\"Sentiment distribution across categories:\\n{sentiment_category_distribution}\")\n",
        "\n",
        "# Discuss implications\n",
        "print(\"The sentiment analysis reveals the general sentiment expressed in the blog posts. We observe that...\")\n"
      ],
      "metadata": {
        "colab": {
          "base_uri": "https://localhost:8080/"
        },
        "id": "ynvVo_SVik6p",
        "outputId": "9bda5453-b1bd-4540-82d3-6677e9316448"
      },
      "execution_count": 25,
      "outputs": [
        {
          "output_type": "stream",
          "name": "stdout",
          "text": [
            "Sentiment distribution:\n",
            "Sentiment\n",
            "positive    1543\n",
            "negative     457\n",
            "Name: count, dtype: int64\n",
            "Sentiment distribution across categories:\n",
            "Sentiment                 negative  positive\n",
            "Labels                                      \n",
            "alt.atheism                     23        77\n",
            "comp.graphics                   24        76\n",
            "comp.os.ms-windows.misc         22        78\n",
            "comp.sys.ibm.pc.hardware        20        80\n",
            "comp.sys.mac.hardware           24        76\n",
            "comp.windows.x                  27        73\n",
            "misc.forsale                    16        84\n",
            "rec.autos                       17        83\n",
            "rec.motorcycles                 26        74\n",
            "rec.sport.baseball              29        71\n",
            "rec.sport.hockey                34        66\n",
            "sci.crypt                       19        81\n",
            "sci.electronics                 19        81\n",
            "sci.med                         29        71\n",
            "sci.space                       27        73\n",
            "soc.religion.christian          13        87\n",
            "talk.politics.guns              30        70\n",
            "talk.politics.mideast           22        78\n",
            "talk.politics.misc              22        78\n",
            "talk.religion.misc              14        86\n",
            "The sentiment analysis reveals the general sentiment expressed in the blog posts. We observe that...\n"
          ]
        }
      ]
    }
  ]
}